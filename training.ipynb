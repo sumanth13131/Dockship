{
 "cells": [
  {
   "cell_type": "code",
   "execution_count": 42,
   "metadata": {},
   "outputs": [],
   "source": [
    "import xml.etree.ElementTree as ET\n",
    "tree = ET.parse(path)\n",
    "root = tree.getroot()\n"
   ]
  },
  {
   "cell_type": "code",
   "execution_count": 175,
   "metadata": {},
   "outputs": [
    {
     "name": "stdout",
     "output_type": "stream",
     "text": [
      "266\n",
      "638\n"
     ]
    }
   ],
   "source": [
    "for c in root.findall('object'):\n",
    "    xmin=int(c.find('bndbox/xmin').text)\n",
    "    print(xmin)\n",
    "\n",
    "    "
   ]
  },
  {
   "cell_type": "markdown",
   "metadata": {},
   "source": [
    "# cleaning train-data"
   ]
  },
  {
   "cell_type": "code",
   "execution_count": 195,
   "metadata": {},
   "outputs": [],
   "source": [
    "import os\n",
    "from PIL import Image\n",
    "import xml.etree.ElementTree as ET\n",
    "xml_path=r'E:/Desktop Files/Dockship/dataset/COVID-19/training/annotations/'\n",
    "imgs_path=r'E:/Desktop Files/Dockship/dataset/COVID-19/training/images/'\n",
    "crop_imgs_path_with_mask=r'E:/Desktop Files/Dockship/dataset/COVID-19/training/crop images/with_mask/'\n",
    "crop_imgs_path_without_mask=r'E:/Desktop Files/Dockship/dataset/COVID-19/training/crop images/without_mask/'"
   ]
  },
  {
   "cell_type": "code",
   "execution_count": 196,
   "metadata": {},
   "outputs": [],
   "source": [
    "i=1\n",
    "j=1\n",
    "for file in os.listdir(xml_path):\n",
    "    tree = ET.parse(xml_path+file)\n",
    "    root = tree.getroot()\n",
    "    try:\n",
    "        img_name=str(root.find('filename').text)\n",
    "        img=Image.open(imgs_path+img_name)\n",
    "        for c in root.findall('object'):\n",
    "            name=str(c.find('name').text)    #face or face_mask\n",
    "            xmin=int(c.find('bndbox/xmin').text)\n",
    "            ymin=int(c.find('bndbox/ymin').text)\n",
    "            xmax=int(c.find('bndbox/xmax').text)\n",
    "            ymax=int(c.find('bndbox/ymax').text)\n",
    "            crop_img=img.crop((xmin,ymin,xmax,ymax))\n",
    "            new_img=crop_img.resize((224,224))\n",
    "            if name=='face':\n",
    "                new_img.save(crop_imgs_path_without_mask+str(i)+'.jpg')\n",
    "                i+=1\n",
    "            elif name=='face_mask':\n",
    "                new_img.save(crop_imgs_path_with_mask+str(j)+'.jpg')\n",
    "                j+=1\n",
    "    except:\n",
    "        pass\n",
    "    "
   ]
  },
  {
   "cell_type": "markdown",
   "metadata": {},
   "source": [
    "# train-  face_mask croped images\n",
    "<img src=\"https://github.com/sumanth13131/Dockship/blob/master/1.jpg?raw=true\">"
   ]
  },
  {
   "cell_type": "markdown",
   "metadata": {},
   "source": [
    "# train - face croped images\n",
    "<img src='https://github.com/sumanth13131/Dockship/blob/master/2.jpg?raw=true'>"
   ]
  },
  {
   "cell_type": "markdown",
   "metadata": {},
   "source": [
    "# cleaning validation-data"
   ]
  },
  {
   "cell_type": "code",
   "execution_count": 197,
   "metadata": {},
   "outputs": [],
   "source": [
    "import os\n",
    "from PIL import Image\n",
    "import xml.etree.ElementTree as ET\n",
    "xml_path=r'E:/Desktop Files/Dockship/dataset/COVID-19/validation/annotations/'\n",
    "imgs_path=r'E:/Desktop Files/Dockship/dataset/COVID-19/validation/images/'\n",
    "crop_imgs_path_with_mask=r'E:/Desktop Files/Dockship/dataset/COVID-19/validation/crop images/with_mask/'\n",
    "crop_imgs_path_without_mask=r'E:/Desktop Files/Dockship/dataset/COVID-19/validation/crop images/without_mask/'"
   ]
  },
  {
   "cell_type": "code",
   "execution_count": 198,
   "metadata": {},
   "outputs": [],
   "source": [
    "i=1\n",
    "j=1\n",
    "for file in os.listdir(xml_path):\n",
    "    tree = ET.parse(xml_path+file)\n",
    "    root = tree.getroot()\n",
    "    try:\n",
    "        img_name=str(root.find('filename').text)\n",
    "        img=Image.open(imgs_path+img_name)\n",
    "        for c in root.findall('object'):\n",
    "            name=str(c.find('name').text)    #face or face_mask\n",
    "            xmin=int(c.find('bndbox/xmin').text)\n",
    "            ymin=int(c.find('bndbox/ymin').text)\n",
    "            xmax=int(c.find('bndbox/xmax').text)\n",
    "            ymax=int(c.find('bndbox/ymax').text)\n",
    "            crop_img=img.crop((xmin,ymin,xmax,ymax))\n",
    "            new_img=crop_img.resize((224,224))\n",
    "            if name=='face':\n",
    "                new_img.save(crop_imgs_path_without_mask+str(i)+'.jpg')\n",
    "                i+=1\n",
    "            elif name=='face_mask':\n",
    "                new_img.save(crop_imgs_path_with_mask+str(j)+'.jpg')\n",
    "                j+=1\n",
    "    except:\n",
    "        pass\n",
    "    "
   ]
  },
  {
   "cell_type": "markdown",
   "metadata": {},
   "source": [
    "# validation - face_mask images\n",
    "<img src='https://github.com/sumanth13131/Dockship/blob/master/3.jpg?raw=true'>"
   ]
  },
  {
   "cell_type": "markdown",
   "metadata": {},
   "source": [
    "# validation -face images\n",
    "<img src='https://github.com/sumanth13131/Dockship/blob/master/4.jpg?raw=true'>"
   ]
  },
  {
   "cell_type": "code",
   "execution_count": 3,
   "metadata": {},
   "outputs": [],
   "source": [
    "from tensorflow.keras.preprocessing.image import ImageDataGenerator\n",
    "from tensorflow.keras.applications import MobileNetV2\n",
    "from tensorflow.keras.layers import AveragePooling2D\n",
    "from tensorflow.keras.layers import Dropout\n",
    "from tensorflow.keras.layers import Flatten\n",
    "from tensorflow.keras.layers import Dense\n",
    "from tensorflow.keras.layers import Input\n",
    "from tensorflow.keras.models import Model\n",
    "from tensorflow.keras.optimizers import Adam\n",
    "from tensorflow.keras.applications.mobilenet_v2 import preprocess_input\n",
    "from tensorflow.keras.preprocessing.image import img_to_array\n",
    "from tensorflow.keras.preprocessing.image import load_img\n",
    "from tensorflow.keras.utils import to_categorical\n",
    "from sklearn.preprocessing import LabelBinarizer\n",
    "from sklearn.model_selection import train_test_split\n",
    "from sklearn.metrics import classification_report\n",
    "import matplotlib.pyplot as plt\n",
    "import numpy as np\n",
    "import os"
   ]
  },
  {
   "cell_type": "code",
   "execution_count": 4,
   "metadata": {},
   "outputs": [],
   "source": [
    "INIT_LR = 1e-4\n",
    "EPOCHS = 20\n",
    "BS = 32"
   ]
  },
  {
   "cell_type": "code",
   "execution_count": 5,
   "metadata": {},
   "outputs": [],
   "source": [
    "def paths(dirctory1,dirctory2):\n",
    "    path=[]\n",
    "    for file in os.listdir(dirctory1):\n",
    "        path.append(dirctory1+file)\n",
    "    for file in os.listdir(dirctory2):\n",
    "        path.append(dirctory2+file)\n",
    "    return path"
   ]
  },
  {
   "cell_type": "code",
   "execution_count": 6,
   "metadata": {},
   "outputs": [],
   "source": [
    "train_crop_imgs_path_with_mask=r'E:/Desktop Files/Dockship/dataset/COVID-19/training/crop images/with_mask/'\n",
    "train_crop_imgs_path_without_mask=r'E:/Desktop Files/Dockship/dataset/COVID-19/training/crop images/without_mask/'\n",
    "train_path=paths(train_crop_imgs_path_with_mask,train_crop_imgs_path_without_mask)"
   ]
  },
  {
   "cell_type": "code",
   "execution_count": 7,
   "metadata": {},
   "outputs": [],
   "source": [
    "import random\n",
    "random.shuffle(train_path)"
   ]
  },
  {
   "cell_type": "code",
   "execution_count": 8,
   "metadata": {},
   "outputs": [
    {
     "data": {
      "text/plain": [
       "['E:/Desktop Files/Dockship/dataset/COVID-19/training/crop images/with_mask/1203.jpg',\n",
       " 'E:/Desktop Files/Dockship/dataset/COVID-19/training/crop images/without_mask/2917.jpg',\n",
       " 'E:/Desktop Files/Dockship/dataset/COVID-19/training/crop images/without_mask/6759.jpg',\n",
       " 'E:/Desktop Files/Dockship/dataset/COVID-19/training/crop images/without_mask/5140.jpg',\n",
       " 'E:/Desktop Files/Dockship/dataset/COVID-19/training/crop images/with_mask/563.jpg',\n",
       " 'E:/Desktop Files/Dockship/dataset/COVID-19/training/crop images/without_mask/3145.jpg',\n",
       " 'E:/Desktop Files/Dockship/dataset/COVID-19/training/crop images/without_mask/1415.jpg',\n",
       " 'E:/Desktop Files/Dockship/dataset/COVID-19/training/crop images/without_mask/265.jpg',\n",
       " 'E:/Desktop Files/Dockship/dataset/COVID-19/training/crop images/without_mask/4389.jpg',\n",
       " 'E:/Desktop Files/Dockship/dataset/COVID-19/training/crop images/without_mask/5711.jpg']"
      ]
     },
     "execution_count": 8,
     "metadata": {},
     "output_type": "execute_result"
    }
   ],
   "source": [
    "train_path[:10]"
   ]
  },
  {
   "cell_type": "code",
   "execution_count": 9,
   "metadata": {},
   "outputs": [],
   "source": [
    "val_crop_imgs_path_with_mask=r'E:/Desktop Files/Dockship/dataset/COVID-19/validation/crop images/with_mask/'\n",
    "val_crop_imgs_path_without_mask=r'E:/Desktop Files/Dockship/dataset/COVID-19/validation/crop images/without_mask/'\n",
    "validation_path=paths(val_crop_imgs_path_with_mask,val_crop_imgs_path_without_mask)"
   ]
  },
  {
   "cell_type": "code",
   "execution_count": 10,
   "metadata": {},
   "outputs": [
    {
     "data": {
      "text/plain": [
       "2861"
      ]
     },
     "execution_count": 10,
     "metadata": {},
     "output_type": "execute_result"
    }
   ],
   "source": [
    "len(validation_path)"
   ]
  },
  {
   "cell_type": "code",
   "execution_count": 11,
   "metadata": {},
   "outputs": [],
   "source": [
    "import random\n",
    "random.shuffle(validation_path)"
   ]
  },
  {
   "cell_type": "code",
   "execution_count": 12,
   "metadata": {},
   "outputs": [
    {
     "data": {
      "text/plain": [
       "['E:/Desktop Files/Dockship/dataset/COVID-19/validation/crop images/without_mask/362.jpg',\n",
       " 'E:/Desktop Files/Dockship/dataset/COVID-19/validation/crop images/without_mask/1830.jpg',\n",
       " 'E:/Desktop Files/Dockship/dataset/COVID-19/validation/crop images/without_mask/1490.jpg',\n",
       " 'E:/Desktop Files/Dockship/dataset/COVID-19/validation/crop images/without_mask/840.jpg',\n",
       " 'E:/Desktop Files/Dockship/dataset/COVID-19/validation/crop images/without_mask/1657.jpg',\n",
       " 'E:/Desktop Files/Dockship/dataset/COVID-19/validation/crop images/with_mask/115.jpg',\n",
       " 'E:/Desktop Files/Dockship/dataset/COVID-19/validation/crop images/without_mask/1376.jpg',\n",
       " 'E:/Desktop Files/Dockship/dataset/COVID-19/validation/crop images/without_mask/851.jpg',\n",
       " 'E:/Desktop Files/Dockship/dataset/COVID-19/validation/crop images/with_mask/480.jpg',\n",
       " 'E:/Desktop Files/Dockship/dataset/COVID-19/validation/crop images/with_mask/438.jpg']"
      ]
     },
     "execution_count": 12,
     "metadata": {},
     "output_type": "execute_result"
    }
   ],
   "source": [
    "validation_path[:10]"
   ]
  },
  {
   "cell_type": "markdown",
   "metadata": {},
   "source": [
    "# 1 -> without_mask\n",
    "# 0 -> with_mask"
   ]
  },
  {
   "cell_type": "code",
   "execution_count": 13,
   "metadata": {},
   "outputs": [],
   "source": [
    "def labs(paths):\n",
    "    labels=[]\n",
    "    for path in paths:\n",
    "        label=path.split('/')[-2]\n",
    "        if label == 'without_mask':\n",
    "            labels.append(1)\n",
    "        else:\n",
    "            labels.append(0)\n",
    "    return labels"
   ]
  },
  {
   "cell_type": "code",
   "execution_count": 14,
   "metadata": {},
   "outputs": [],
   "source": [
    "train_labels=labs(train_path)\n",
    "val_labels=labs(validation_path)"
   ]
  },
  {
   "cell_type": "code",
   "execution_count": 15,
   "metadata": {},
   "outputs": [
    {
     "data": {
      "text/plain": [
       "[0, 1, 1, 1, 0, 1, 1, 1, 1, 1]"
      ]
     },
     "execution_count": 15,
     "metadata": {},
     "output_type": "execute_result"
    }
   ],
   "source": [
    "train_labels[:10]"
   ]
  },
  {
   "cell_type": "code",
   "execution_count": 16,
   "metadata": {},
   "outputs": [
    {
     "data": {
      "text/plain": [
       "[1, 1, 1, 1, 1, 0, 1, 1, 0, 0]"
      ]
     },
     "execution_count": 16,
     "metadata": {},
     "output_type": "execute_result"
    }
   ],
   "source": [
    "val_labels[:10]"
   ]
  },
  {
   "cell_type": "code",
   "execution_count": 17,
   "metadata": {},
   "outputs": [
    {
     "data": {
      "text/plain": [
       "7914"
      ]
     },
     "execution_count": 17,
     "metadata": {},
     "output_type": "execute_result"
    }
   ],
   "source": [
    "len(train_labels)"
   ]
  },
  {
   "cell_type": "code",
   "execution_count": 18,
   "metadata": {},
   "outputs": [
    {
     "data": {
      "text/plain": [
       "2861"
      ]
     },
     "execution_count": 18,
     "metadata": {},
     "output_type": "execute_result"
    }
   ],
   "source": [
    "len(val_labels)"
   ]
  },
  {
   "cell_type": "code",
   "execution_count": 19,
   "metadata": {},
   "outputs": [],
   "source": [
    "train_data=[]\n",
    "for img in train_path:\n",
    "    image = load_img(img, target_size=(224, 224))\n",
    "    image = img_to_array(image)\n",
    "    image = preprocess_input(image)\n",
    "    train_data.append(image)"
   ]
  },
  {
   "cell_type": "code",
   "execution_count": 20,
   "metadata": {},
   "outputs": [
    {
     "data": {
      "text/plain": [
       "7914"
      ]
     },
     "execution_count": 20,
     "metadata": {},
     "output_type": "execute_result"
    }
   ],
   "source": [
    "len(train_data)"
   ]
  },
  {
   "cell_type": "code",
   "execution_count": 21,
   "metadata": {},
   "outputs": [],
   "source": [
    "val_data=[]\n",
    "for img in validation_path:\n",
    "    image = load_img(img, target_size=(224, 224))\n",
    "    image = img_to_array(image)\n",
    "    image = preprocess_input(image)\n",
    "    val_data.append(image)"
   ]
  },
  {
   "cell_type": "code",
   "execution_count": 22,
   "metadata": {},
   "outputs": [
    {
     "data": {
      "text/plain": [
       "2861"
      ]
     },
     "execution_count": 22,
     "metadata": {},
     "output_type": "execute_result"
    }
   ],
   "source": [
    "len(val_data)"
   ]
  },
  {
   "cell_type": "code",
   "execution_count": 23,
   "metadata": {},
   "outputs": [],
   "source": [
    "train_data = np.array(train_data, dtype=\"float32\")\n",
    "train_labels = np.array(train_labels)\n",
    "val_data = np.array(val_data, dtype=\"float32\")\n",
    "val_labels = np.array(val_labels)"
   ]
  },
  {
   "cell_type": "code",
   "execution_count": 24,
   "metadata": {},
   "outputs": [],
   "source": [
    "aug = ImageDataGenerator(rotation_range=20,\n",
    "                         zoom_range=0.15,\n",
    "                         width_shift_range=0.2,\n",
    "                         height_shift_range=0.2,\n",
    "                         shear_range=0.15,\n",
    "                         horizontal_flip=True,\n",
    "                         fill_mode=\"nearest\")"
   ]
  },
  {
   "cell_type": "code",
   "execution_count": 25,
   "metadata": {},
   "outputs": [
    {
     "name": "stderr",
     "output_type": "stream",
     "text": [
      "C:\\Users\\suman\\Desktop\\AACONDA\\envs\\dockship\\lib\\site-packages\\keras_applications\\mobilenet_v2.py:294: UserWarning: `input_shape` is undefined or non-square, or `rows` is not in [96, 128, 160, 192, 224]. Weights for input shape (224, 224) will be loaded as the default.\n",
      "  warnings.warn('`input_shape` is undefined or non-square, '\n"
     ]
    }
   ],
   "source": [
    "baseModel = MobileNetV2(weights=\"imagenet\", include_top=False,input_tensor=Input(shape=(224, 224, 3)))\n",
    "# construct the head of the model that will be placed on top of the\n",
    "# the base model\n",
    "headModel = baseModel.output\n",
    "headModel = AveragePooling2D(pool_size=(7, 7))(headModel)\n",
    "headModel = Flatten(name=\"flatten\")(headModel)\n",
    "headModel = Dense(128, activation=\"relu\")(headModel)\n",
    "headModel = Dropout(0.5)(headModel)\n",
    "headModel = Dense(2, activation=\"softmax\")(headModel)\n",
    "# place the head FC model on top of the base model (this will become\n",
    "# the actual model we will train)\n",
    "model = Model(inputs=baseModel.input, outputs=headModel)\n",
    "# loop over all layers in the base model and freeze them so they will\n",
    "# *not* be updated during the first training process"
   ]
  },
  {
   "cell_type": "code",
   "execution_count": 26,
   "metadata": {},
   "outputs": [],
   "source": [
    "opt = Adam(lr=INIT_LR, decay=INIT_LR / EPOCHS)\n",
    "model.compile(loss=\"sparse_categorical_crossentropy\", optimizer=opt,metrics=[\"accuracy\"])"
   ]
  },
  {
   "cell_type": "code",
   "execution_count": 27,
   "metadata": {},
   "outputs": [
    {
     "name": "stdout",
     "output_type": "stream",
     "text": [
      "WARNING:tensorflow:sample_weight modes were coerced from\n",
      "  ...\n",
      "    to  \n",
      "  ['...']\n",
      "Train for 41 steps, validate on 2861 samples\n",
      "Epoch 1/20\n",
      "41/41 [==============================] - 290s 7s/step - loss: 0.4083 - accuracy: 0.8186 - val_loss: 0.0369 - val_accuracy: 0.9308\n",
      "Epoch 2/20\n",
      "41/41 [==============================] - 269s 7s/step - loss: 0.1706 - accuracy: 0.9426 - val_loss: 0.0249 - val_accuracy: 0.9554\n",
      "Epoch 3/20\n",
      "41/41 [==============================] - 275s 7s/step - loss: 0.1727 - accuracy: 0.9436 - val_loss: 0.0248 - val_accuracy: 0.9598\n",
      "Epoch 4/20\n",
      "41/41 [==============================] - 264s 6s/step - loss: 0.1273 - accuracy: 0.9543 - val_loss: 0.0307 - val_accuracy: 0.9621\n",
      "Epoch 5/20\n",
      "41/41 [==============================] - 264s 6s/step - loss: 0.1403 - accuracy: 0.9573 - val_loss: 0.0385 - val_accuracy: 0.9375\n",
      "Epoch 6/20\n",
      "41/41 [==============================] - 278s 7s/step - loss: 0.1049 - accuracy: 0.9672 - val_loss: 0.0344 - val_accuracy: 0.9420\n",
      "Epoch 7/20\n",
      "41/41 [==============================] - 263s 6s/step - loss: 0.1113 - accuracy: 0.9642 - val_loss: 0.0298 - val_accuracy: 0.9509\n",
      "Epoch 8/20\n",
      "41/41 [==============================] - 264s 6s/step - loss: 0.1131 - accuracy: 0.9620 - val_loss: 0.0298 - val_accuracy: 0.9576\n",
      "Epoch 9/20\n",
      "41/41 [==============================] - 269s 7s/step - loss: 0.1064 - accuracy: 0.9642 - val_loss: 0.0333 - val_accuracy: 0.9598\n",
      "Epoch 10/20\n",
      "41/41 [==============================] - 264s 6s/step - loss: 0.0930 - accuracy: 0.9736 - val_loss: 0.0338 - val_accuracy: 0.9688\n",
      "Epoch 11/20\n",
      "41/41 [==============================] - 270s 7s/step - loss: 0.1007 - accuracy: 0.9680 - val_loss: 0.0284 - val_accuracy: 0.9665\n",
      "Epoch 12/20\n",
      "41/41 [==============================] - 268s 7s/step - loss: 0.0838 - accuracy: 0.9718 - val_loss: 0.0286 - val_accuracy: 0.9621\n",
      "Epoch 13/20\n",
      "41/41 [==============================] - 263s 6s/step - loss: 0.0764 - accuracy: 0.9741 - val_loss: 0.0311 - val_accuracy: 0.9531\n",
      "Epoch 14/20\n",
      "41/41 [==============================] - 261s 6s/step - loss: 0.0924 - accuracy: 0.9665 - val_loss: 0.0292 - val_accuracy: 0.9621\n",
      "Epoch 15/20\n",
      "41/41 [==============================] - 270s 7s/step - loss: 0.0676 - accuracy: 0.9771 - val_loss: 0.0316 - val_accuracy: 0.9643\n",
      "Epoch 16/20\n",
      "41/41 [==============================] - 267s 7s/step - loss: 0.0652 - accuracy: 0.9794 - val_loss: 0.0307 - val_accuracy: 0.9554\n",
      "Epoch 17/20\n",
      "41/41 [==============================] - 264s 6s/step - loss: 0.0773 - accuracy: 0.9787 - val_loss: 0.0333 - val_accuracy: 0.9688\n",
      "Epoch 18/20\n",
      "41/41 [==============================] - 265s 6s/step - loss: 0.0895 - accuracy: 0.9718 - val_loss: 0.0263 - val_accuracy: 0.9665\n",
      "Epoch 19/20\n",
      "41/41 [==============================] - 265s 6s/step - loss: 0.0811 - accuracy: 0.9744 - val_loss: 0.0282 - val_accuracy: 0.9509\n",
      "Epoch 20/20\n",
      "41/41 [==============================] - 260s 6s/step - loss: 0.0507 - accuracy: 0.9855 - val_loss: 0.0268 - val_accuracy: 0.9554\n"
     ]
    }
   ],
   "source": [
    "H = model.fit(aug.flow(train_data, train_labels, batch_size=BS),\n",
    "              steps_per_epoch=len(train_data) //(6* BS),\n",
    "              validation_data=(val_data, val_labels),\n",
    "              validation_steps=len(val_data) // (6*BS),\n",
    "              epochs=EPOCHS)"
   ]
  },
  {
   "cell_type": "code",
   "execution_count": 28,
   "metadata": {},
   "outputs": [
    {
     "name": "stdout",
     "output_type": "stream",
     "text": [
      "2861/2861 [==============================] - 108s 38ms/sample - loss: 0.1338 - accuracy: 0.9643\n"
     ]
    },
    {
     "data": {
      "text/plain": [
       "[0.13377951368675214, 0.96434814]"
      ]
     },
     "execution_count": 28,
     "metadata": {},
     "output_type": "execute_result"
    }
   ],
   "source": [
    "model.evaluate(val_data,val_labels)"
   ]
  },
  {
   "cell_type": "code",
   "execution_count": 33,
   "metadata": {
    "scrolled": true
   },
   "outputs": [
    {
     "data": {
      "text/plain": [
       "<matplotlib.legend.Legend at 0x1f89f547d88>"
      ]
     },
     "execution_count": 33,
     "metadata": {},
     "output_type": "execute_result"
    },
    {
     "data": {
      "image/png": "[encoded data removed]",
      "text/plain": [
       "<Figure size 1080x288 with 1 Axes>"
      ]
     },
     "metadata": {},
     "output_type": "display_data"
    }
   ],
   "source": [
    "N = EPOCHS\n",
    "plt.style.use(\"ggplot\")\n",
    "plt.figure(figsize=(15,4))\n",
    "plt.plot(np.arange(0, N), H.history[\"loss\"], label=\"train_loss\")\n",
    "plt.plot(np.arange(0, N), H.history[\"val_loss\"], label=\"val_loss\")\n",
    "plt.plot(np.arange(0, N), H.history[\"accuracy\"], label=\"train_acc\")\n",
    "plt.plot(np.arange(0, N), H.history[\"val_accuracy\"], label=\"val_acc\")\n",
    "plt.title(\"Training Loss and Accuracy\")\n",
    "plt.xlabel(\"Epoch--->\")\n",
    "plt.ylabel(\"Loss/Accuracy\")\n",
    "plt.legend(loc=\"center right\")"
   ]
  },
  {
   "cell_type": "code",
   "execution_count": 46,
   "metadata": {
    "scrolled": true
   },
   "outputs": [
    {
     "name": "stdout",
     "output_type": "stream",
     "text": [
      "INFO:tensorflow:Assets written to: E:\\Desktop Files\\Dockship\\dataset\\COVID-19\\models\\cnn_model\\assets\n"
     ]
    }
   ],
   "source": [
    "\n",
    "model.save('E:\\Desktop Files\\Dockship\\dataset\\COVID-19\\models\\cnn_model')"
   ]
  },
  {
   "cell_type": "code",
   "execution_count": 42,
   "metadata": {},
   "outputs": [],
   "source": [
    "model.save('E:/Desktop Files/Dockship/dataset/COVID-19/models/my_model.h5') "
   ]
  },
  {
   "cell_type": "code",
   "execution_count": null,
   "metadata": {},
   "outputs": [],
   "source": []
  },
  {
   "cell_type": "code",
   "execution_count": null,
   "metadata": {},
   "outputs": [],
   "source": []
  },
  {
   "cell_type": "code",
   "execution_count": null,
   "metadata": {},
   "outputs": [],
   "source": [
    "\n"
   ]
  },
  {
   "cell_type": "code",
   "execution_count": null,
   "metadata": {},
   "outputs": [],
   "source": []
  }
 ],
 "metadata": {
  "kernelspec": {
   "display_name": "Python 3",
   "language": "python",
   "name": "python3"
  },
  "language_info": {
   "codemirror_mode": {
    "name": "ipython",
    "version": 3
   },
   "file_extension": ".py",
   "mimetype": "text/x-python",
   "name": "python",
   "nbconvert_exporter": "python",
   "pygments_lexer": "ipython3",
   "version": "3.7.7"
  }
 },
 "nbformat": 4,
 "nbformat_minor": 4
}
